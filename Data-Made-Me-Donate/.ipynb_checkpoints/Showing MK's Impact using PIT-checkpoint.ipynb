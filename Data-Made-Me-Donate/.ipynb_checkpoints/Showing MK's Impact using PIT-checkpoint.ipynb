{
 "cells": [
  {
   "cell_type": "markdown",
   "metadata": {},
   "source": [
    "# Showing MK's Impact Using PIT"
   ]
  },
  {
   "cell_type": "markdown",
   "metadata": {},
   "source": [
    "The DC government has questioned whether Miriam's Kitchen (MK) is worth the cost. The government would rather spend 20,000 on private housing as compared to 40,000 for MK initiatives. Using Point in Time data (how many homeless people were on the streets or sheltered at a given point of time) for Federal CoC (Continuum of Care), Federal State, and MK, we can compare how MK does as compared to other homeless efforts in DC. \n",
    "\n",
    "We'll be using Federal State, Federal CoC, and MK data. For each, we'll take the PIT for both sheltered homeless and overall homeless from the years 2017-2018. Since there are vastly more homeless in DC State and DC CoC programs than there are in MK, we'll instead compare the ratio of sheltered homeless PIT and overall homeless PIT for each of those 3 categories. "
   ]
  },
  {
   "cell_type": "markdown",
   "metadata": {},
   "source": [
    "### Load in Data"
   ]
  },
  {
   "cell_type": "code",
   "execution_count": 4,
   "metadata": {},
   "outputs": [],
   "source": [
    "federal_folder = 'federal_data'\n",
    "mk_folder = 'mk_data'\n",
    "federal_coc_pit_file = '2007-2018-PIT-Counts-by-CoC'\n",
    "federal_state_pit_file = '2007-2018-PIT-Counts-by-State'\n",
    "mk_pit_file = 'Cumulative_MK_PIT_Cleaned_Results_2007_to_2018'\n",
    "\n",
    "import pandas as pd\n",
    "from pandas import Series,DataFrame\n",
    "\n",
    "federal_coc_pit_excel_file = pd.ExcelFile('data/' + federal_folder + '/' + federal_coc_pit_file + '.xlsx')\n",
    "federal_state_pit_excel_file = pd.ExcelFile('data/' + federal_folder + '/' + federal_state_pit_file + '.xlsx')\n",
    "\n",
    "mk_pit_excel_file = pd.ExcelFile('data/' + mk_folder + '/' + mk_pit_file + '.xlsx')\n",
    "\n",
    "mk_pit_data = pd.read_excel(mk_pit_excel_file, 'Sheet2')"
   ]
  },
  {
   "cell_type": "markdown",
   "metadata": {},
   "source": [
    "Federal CoC and Federal State has only one entry for DC State. We hardcoded the row number for each Federal DC CoC and Federal DC State. "
   ]
  },
  {
   "cell_type": "code",
   "execution_count": 5,
   "metadata": {},
   "outputs": [],
   "source": [
    "state_key = 7\n",
    "coc_key = 68\n",
    "\n",
    "ratio_th_dict = {}\n",
    "\n",
    "ratio = lambda subset,total: subset/total \n",
    "\n",
    "for mk_key in mk_pit_data.keys():\n",
    "    federal_state_pit_data = pd.read_excel(federal_state_pit_excel_file, str(mk_key))\n",
    "    federal_coc_pit_data = pd.read_excel(federal_coc_pit_excel_file, str(mk_key))\n",
    "\n",
    "    ratio_th_dict[mk_key] = {}\n",
    "   \n",
    "    ratio_th_dict[mk_key]['Federal State PIT'] = ratio(federal_state_pit_data['Sheltered TH Homeless, ' + str(mk_key)][state_key], federal_state_pit_data['Overall Homeless, ' + str(mk_key)][state_key])\n",
    "    ratio_th_dict[mk_key]['Federal CoC PIT'] = ratio(federal_coc_pit_data['Sheltered TH Homeless, ' + str(mk_key)][coc_key], federal_coc_pit_data['Overall Homeless, ' + str(mk_key)][coc_key]) \n",
    "    ratio_th_dict[mk_key]['MK PIT'] = ratio(int(float(mk_pit_data[mk_key]['Shelter / Transitional Housing']) * int(mk_pit_data[mk_key]['Surveys Completed'])), int(mk_pit_data[mk_key]['Surveys Completed'])) \n"
   ]
  },
  {
   "cell_type": "code",
   "execution_count": 6,
   "metadata": {},
   "outputs": [
    {
     "data": {
      "text/html": [
       "<div>\n",
       "<style scoped>\n",
       "    .dataframe tbody tr th:only-of-type {\n",
       "        vertical-align: middle;\n",
       "    }\n",
       "\n",
       "    .dataframe tbody tr th {\n",
       "        vertical-align: top;\n",
       "    }\n",
       "\n",
       "    .dataframe thead th {\n",
       "        text-align: right;\n",
       "    }\n",
       "</style>\n",
       "<table border=\"1\" class=\"dataframe\">\n",
       "  <thead>\n",
       "    <tr style=\"text-align: right;\">\n",
       "      <th></th>\n",
       "      <th>Federal CoC PIT</th>\n",
       "      <th>Federal State PIT</th>\n",
       "      <th>MK PIT</th>\n",
       "    </tr>\n",
       "  </thead>\n",
       "  <tbody>\n",
       "    <tr>\n",
       "      <th>2007</th>\n",
       "      <td>0.391140</td>\n",
       "      <td>0.325564</td>\n",
       "      <td>0.617284</td>\n",
       "    </tr>\n",
       "    <tr>\n",
       "      <th>2008</th>\n",
       "      <td>0.323832</td>\n",
       "      <td>0.364494</td>\n",
       "      <td>0.567568</td>\n",
       "    </tr>\n",
       "    <tr>\n",
       "      <th>2009</th>\n",
       "      <td>0.239836</td>\n",
       "      <td>0.416185</td>\n",
       "      <td>0.540000</td>\n",
       "    </tr>\n",
       "    <tr>\n",
       "      <th>2010</th>\n",
       "      <td>0.217072</td>\n",
       "      <td>0.384157</td>\n",
       "      <td>0.567901</td>\n",
       "    </tr>\n",
       "    <tr>\n",
       "      <th>2011</th>\n",
       "      <td>0.407986</td>\n",
       "      <td>0.397189</td>\n",
       "      <td>0.545894</td>\n",
       "    </tr>\n",
       "    <tr>\n",
       "      <th>2012</th>\n",
       "      <td>0.077504</td>\n",
       "      <td>0.359937</td>\n",
       "      <td>0.306604</td>\n",
       "    </tr>\n",
       "    <tr>\n",
       "      <th>2013</th>\n",
       "      <td>0.191669</td>\n",
       "      <td>0.341296</td>\n",
       "      <td>0.349112</td>\n",
       "    </tr>\n",
       "    <tr>\n",
       "      <th>2014</th>\n",
       "      <td>0.241522</td>\n",
       "      <td>0.206247</td>\n",
       "      <td>0.538922</td>\n",
       "    </tr>\n",
       "    <tr>\n",
       "      <th>2015</th>\n",
       "      <td>0.228693</td>\n",
       "      <td>0.228693</td>\n",
       "      <td>0.357143</td>\n",
       "    </tr>\n",
       "    <tr>\n",
       "      <th>2016</th>\n",
       "      <td>0.212335</td>\n",
       "      <td>0.212335</td>\n",
       "      <td>0.237113</td>\n",
       "    </tr>\n",
       "    <tr>\n",
       "      <th>2017</th>\n",
       "      <td>0.374245</td>\n",
       "      <td>0.162318</td>\n",
       "      <td>0.223529</td>\n",
       "    </tr>\n",
       "    <tr>\n",
       "      <th>2018</th>\n",
       "      <td>0.175116</td>\n",
       "      <td>0.175116</td>\n",
       "      <td>0.279412</td>\n",
       "    </tr>\n",
       "  </tbody>\n",
       "</table>\n",
       "</div>"
      ],
      "text/plain": [
       "      Federal CoC PIT  Federal State PIT    MK PIT\n",
       "2007         0.391140           0.325564  0.617284\n",
       "2008         0.323832           0.364494  0.567568\n",
       "2009         0.239836           0.416185  0.540000\n",
       "2010         0.217072           0.384157  0.567901\n",
       "2011         0.407986           0.397189  0.545894\n",
       "2012         0.077504           0.359937  0.306604\n",
       "2013         0.191669           0.341296  0.349112\n",
       "2014         0.241522           0.206247  0.538922\n",
       "2015         0.228693           0.228693  0.357143\n",
       "2016         0.212335           0.212335  0.237113\n",
       "2017         0.374245           0.162318  0.223529\n",
       "2018         0.175116           0.175116  0.279412"
      ]
     },
     "execution_count": 6,
     "metadata": {},
     "output_type": "execute_result"
    }
   ],
   "source": [
    "ratio_th_pit_df = pd.DataFrame(data = ratio_th_dict).T\n",
    "\n",
    "ratio_th_pit_df.head(12)"
   ]
  },
  {
   "cell_type": "markdown",
   "metadata": {},
   "source": [
    "### Violin Plot"
   ]
  },
  {
   "cell_type": "markdown",
   "metadata": {},
   "source": [
    "Below, we can see that MK PIT has a higher success ratio of shelterhing homeless people point in time than federal CoC and Federal State. Further proving that MK PIT makes a strong impact."
   ]
  },
  {
   "cell_type": "code",
   "execution_count": 7,
   "metadata": {},
   "outputs": [
    {
     "name": "stderr",
     "output_type": "stream",
     "text": [
      "/Users/hdeva/anaconda3/lib/python3.7/site-packages/scipy/stats/stats.py:1713: FutureWarning: Using a non-tuple sequence for multidimensional indexing is deprecated; use `arr[tuple(seq)]` instead of `arr[seq]`. In the future this will be interpreted as an array index, `arr[np.array(seq)]`, which will result either in an error or a different result.\n",
      "  return np.add.reduce(sorted[indexer] * weights, axis=axis) / sumval\n"
     ]
    },
    {
     "data": {
      "text/plain": [
       "<matplotlib.axes._subplots.AxesSubplot at 0x1a1f0b2080>"
      ]
     },
     "execution_count": 7,
     "metadata": {},
     "output_type": "execute_result"
    }
   ],
   "source": [
    "import seaborn as sns\n",
    "\n",
    "sns.violinplot(x=\"PIT Categories\", y=\"Sheltered TH Homeless PIT Ratio\", data=pd.melt(ratio_th_pit_df, var_name='PIT Categories', value_name='Sheltered TH Homeless PIT Ratio'))"
   ]
  },
  {
   "cell_type": "markdown",
   "metadata": {},
   "source": [
    "With 12 data points, we can simply display a swarm plot below."
   ]
  },
  {
   "cell_type": "code",
   "execution_count": 8,
   "metadata": {},
   "outputs": [
    {
     "data": {
      "text/plain": [
       "<matplotlib.axes._subplots.AxesSubplot at 0x1a1f45cdd8>"
      ]
     },
     "execution_count": 8,
     "metadata": {},
     "output_type": "execute_result"
    },
    {
     "data": {
      "image/png": "[encoded data removed]",
      "text/plain": [
       "<Figure size 432x288 with 1 Axes>"
      ]
     },
     "metadata": {
      "needs_background": "light"
     },
     "output_type": "display_data"
    }
   ],
   "source": [
    "\n",
    "sns.swarmplot(x=\"PIT Categories\", y=\"Sheltered TH Homeless PIT Ratio\", data=pd.melt(ratio_th_pit_df, var_name='PIT Categories', value_name='Sheltered TH Homeless PIT Ratio'), color='k', alpha=0.7)"
   ]
  },
  {
   "cell_type": "markdown",
   "metadata": {},
   "source": [
    "Displaying violin and swarm plots together."
   ]
  },
  {
   "cell_type": "code",
   "execution_count": 9,
   "metadata": {},
   "outputs": [
    {
     "name": "stderr",
     "output_type": "stream",
     "text": [
      "/Users/hdeva/anaconda3/lib/python3.7/site-packages/scipy/stats/stats.py:1713: FutureWarning: Using a non-tuple sequence for multidimensional indexing is deprecated; use `arr[tuple(seq)]` instead of `arr[seq]`. In the future this will be interpreted as an array index, `arr[np.array(seq)]`, which will result either in an error or a different result.\n",
      "  return np.add.reduce(sorted[indexer] * weights, axis=axis) / sumval\n"
     ]
    },
    {
     "data": {
      "text/plain": [
       "<matplotlib.axes._subplots.AxesSubplot at 0x1a1f4c0470>"
      ]
     },
     "execution_count": 9,
     "metadata": {},
     "output_type": "execute_result"
    },
    {
     "data": {
      "image/png": "[encoded data removed]",
      "text/plain": [
       "<Figure size 432x288 with 1 Axes>"
      ]
     },
     "metadata": {
      "needs_background": "light"
     },
     "output_type": "display_data"
    }
   ],
   "source": [
    "sns.violinplot(x=\"PIT Categories\", y=\"Sheltered TH Homeless PIT Ratio\", data=pd.melt(ratio_th_pit_df, var_name='PIT Categories', value_name='Sheltered TH Homeless PIT Ratio'))\n",
    "\n",
    "sns.swarmplot(x=\"PIT Categories\", y=\"Sheltered TH Homeless PIT Ratio\", data=pd.melt(ratio_th_pit_df, var_name='PIT Categories', value_name='Sheltered TH Homeless PIT Ratio'), color='k', alpha=0.7)"
   ]
  },
  {
   "cell_type": "markdown",
   "metadata": {},
   "source": [
    "### Chi Squared Test"
   ]
  },
  {
   "cell_type": "markdown",
   "metadata": {},
   "source": [
    "Now, we want to do a chi squared test to see if MK PIT depends on Federal CoC PIT or Federal State PIT. Given that MK is a Subsection of DC, it would make sense if the MK sample matches either of the Federal DC populations. We will conduct two tests: one with Federal State PIT and MK PIT, another wiht FEderal CoC PIT and MK PIT."
   ]
  },
  {
   "cell_type": "code",
   "execution_count": 10,
   "metadata": {},
   "outputs": [],
   "source": [
    "# Chi-squared test with similar proportions \n",
    "from scipy import stats"
   ]
  },
  {
   "cell_type": "markdown",
   "metadata": {},
   "source": [
    "#### Federal State vs MK"
   ]
  },
  {
   "cell_type": "code",
   "execution_count": 11,
   "metadata": {},
   "outputs": [
    {
     "name": "stdout",
     "output_type": "stream",
     "text": [
      "probability=0.950, critical=19.675, stat=0.152\n",
      "Independent (fail to reject H0)\n",
      "significance=0.050, p=1.000\n",
      "Independent (fail to reject H0)\n"
     ]
    }
   ],
   "source": [
    "# Contingency table\n",
    "stat,p,dof,expected = stats.chi2_contingency([ratio_th_pit_df['MK PIT'].tolist(), ratio_th_pit_df['Federal State PIT'].tolist()])\n",
    "\n",
    "# Interpret test-statistic\n",
    "prob = 0.95\n",
    "critical = stats.chi2.ppf(prob, dof)\n",
    "print('probability=%.3f, critical=%.3f, stat=%.3f' % (prob, critical, stat))\n",
    "if abs(stat) >= critical:\n",
    "\tprint('Dependent (reject H0)')\n",
    "else:\n",
    "\tprint('Independent (fail to reject H0)')\n",
    "# interpret P-value\n",
    "alpha = 1.0 - prob\n",
    "print('significance=%.3f, p=%.3f' % (alpha, p))\n",
    "if p <= alpha:\n",
    "\tprint('Dependent (reject H0)')\n",
    "else:\n",
    "\tprint('Independent (fail to reject H0)')"
   ]
  },
  {
   "cell_type": "markdown",
   "metadata": {},
   "source": [
    "MK PIT is independent of Federal State PIT"
   ]
  },
  {
   "cell_type": "markdown",
   "metadata": {},
   "source": [
    "#### Federal CoC vs MK"
   ]
  },
  {
   "cell_type": "code",
   "execution_count": 12,
   "metadata": {},
   "outputs": [
    {
     "name": "stdout",
     "output_type": "stream",
     "text": [
      "probability=0.950, critical=19.675, stat=0.304\n",
      "Independent (fail to reject H0)\n",
      "significance=0.050, p=1.000\n",
      "Independent (fail to reject H0)\n"
     ]
    }
   ],
   "source": [
    "# Contingency table\n",
    "stat,p,dof,expected = stats.chi2_contingency([ratio_th_pit_df['MK PIT'].tolist(), ratio_th_pit_df['Federal CoC PIT'].tolist()])\n",
    "\n",
    "# Interpret test-statistic\n",
    "prob = 0.95\n",
    "critical = stats.chi2.ppf(prob, dof)\n",
    "print('probability=%.3f, critical=%.3f, stat=%.3f' % (prob, critical, stat))\n",
    "if abs(stat) >= critical:\n",
    "\tprint('Dependent (reject H0)')\n",
    "else:\n",
    "\tprint('Independent (fail to reject H0)')\n",
    "# interpret P-value\n",
    "alpha = 1.0 - prob\n",
    "print('significance=%.3f, p=%.3f' % (alpha, p))\n",
    "if p <= alpha:\n",
    "\tprint('Dependent (reject H0)')\n",
    "else:\n",
    "\tprint('Independent (fail to reject H0)')"
   ]
  },
  {
   "cell_type": "markdown",
   "metadata": {},
   "source": [
    "MK PIT is independent of Federal CoC PIT"
   ]
  }
 ],
 "metadata": {
  "kernelspec": {
   "display_name": "Python 3",
   "language": "python",
   "name": "python3"
  },
  "language_info": {
   "codemirror_mode": {
    "name": "ipython",
    "version": 3
   },
   "file_extension": ".py",
   "mimetype": "text/x-python",
   "name": "python",
   "nbconvert_exporter": "python",
   "pygments_lexer": "ipython3",
   "version": "3.7.2"
  }
 },
 "nbformat": 4,
 "nbformat_minor": 2
}
